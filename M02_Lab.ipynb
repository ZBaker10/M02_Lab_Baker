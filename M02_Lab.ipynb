{
 "cells": [
  {
   "cell_type": "code",
   "execution_count": 1,
   "id": "091931a9-8b9e-40d4-86f9-b6c938013871",
   "metadata": {},
   "outputs": [
    {
     "name": "stdin",
     "output_type": "stream",
     "text": [
      "Enter the student's last name or 'ZZZ' to quit:  Baker\n",
      "Enter the student's first name:  Zach\n",
      "Enter the student's GPA:  3.6\n"
     ]
    },
    {
     "name": "stdout",
     "output_type": "stream",
     "text": [
      "Zach Baker made the Dean's List.\n"
     ]
    },
    {
     "name": "stdin",
     "output_type": "stream",
     "text": [
      "Enter the student's last name or 'ZZZ' to quit:  Lily\n",
      "Enter the student's first name:  Simone\n",
      "Enter the student's GPA:  3.42\n"
     ]
    },
    {
     "name": "stdout",
     "output_type": "stream",
     "text": [
      "Simone Lily made the Honor Roll.\n"
     ]
    },
    {
     "name": "stdin",
     "output_type": "stream",
     "text": [
      "Enter the student's last name or 'ZZZ' to quit:  Kyle\n",
      "Enter the student's first name:  Rose\n",
      "Enter the student's GPA:  2.5\n"
     ]
    },
    {
     "name": "stdout",
     "output_type": "stream",
     "text": [
      "Rose Kyle hasn't qualified for the Dean's List or the Honor Roll.\n"
     ]
    },
    {
     "name": "stdin",
     "output_type": "stream",
     "text": [
      "Enter the student's last name or 'ZZZ' to quit:  Oscar\n",
      "Enter the student's first name:  Barchick\n",
      "Enter the student's GPA:  4.0\n"
     ]
    },
    {
     "name": "stdout",
     "output_type": "stream",
     "text": [
      "Barchick Oscar made the Dean's List.\n"
     ]
    },
    {
     "name": "stdin",
     "output_type": "stream",
     "text": [
      "Enter the student's last name or 'ZZZ' to quit:  Drew\n",
      "Enter the student's first name:  Parker\n",
      "Enter the student's GPA:  3.75\n"
     ]
    },
    {
     "name": "stdout",
     "output_type": "stream",
     "text": [
      "Parker Drew made the Dean's List.\n"
     ]
    },
    {
     "name": "stdin",
     "output_type": "stream",
     "text": [
      "Enter the student's last name or 'ZZZ' to quit:  ZZZ\n"
     ]
    },
    {
     "name": "stdout",
     "output_type": "stream",
     "text": [
      "Exiting\n"
     ]
    }
   ],
   "source": [
    "def main():\n",
    "    while True:\n",
    "        #student last name\n",
    "        last_name = input(\"Enter the student's last name or 'ZZZ' to quit: \").strip()\n",
    "\n",
    "        #quit function\n",
    "        if last_name.upper() == 'ZZZ':\n",
    "            print(\"Exiting\")\n",
    "            break\n",
    "\n",
    "        #student first name\n",
    "        first_name = input(\"Enter the student's first name: \").strip()\n",
    "\n",
    "        #enter gpa to float\n",
    "        try:\n",
    "            gpa = float(input(\"Enter the student's GPA: \"))\n",
    "        except ValueError:\n",
    "            print(\"Invalid GPA. Please enter a valid number.\")\n",
    "            continue\n",
    "\n",
    "        #qualify for Dean's List or Honor Roll?\n",
    "        if gpa >= 3.5:\n",
    "            print(f\"{first_name} {last_name} made the Dean's List.\")\n",
    "        elif gpa >= 3.25:\n",
    "            print(f\"{first_name} {last_name} made the Honor Roll.\")\n",
    "        else:\n",
    "            print(f\"{first_name} {last_name} hasn't qualified for the Dean's List or the Honor Roll.\")\n",
    "\n",
    "if __name__ == \"__main__\":\n",
    "    main()"
   ]
  },
  {
   "cell_type": "code",
   "execution_count": null,
   "id": "8f859110-89a4-4ebb-8c96-b370f75969b1",
   "metadata": {},
   "outputs": [],
   "source": []
  }
 ],
 "metadata": {
  "kernelspec": {
   "display_name": "Python 3 (ipykernel)",
   "language": "python",
   "name": "python3"
  },
  "language_info": {
   "codemirror_mode": {
    "name": "ipython",
    "version": 3
   },
   "file_extension": ".py",
   "mimetype": "text/x-python",
   "name": "python",
   "nbconvert_exporter": "python",
   "pygments_lexer": "ipython3",
   "version": "3.12.4"
  }
 },
 "nbformat": 4,
 "nbformat_minor": 5
}
